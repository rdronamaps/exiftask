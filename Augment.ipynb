{
  "nbformat": 4,
  "nbformat_minor": 0,
  "metadata": {
    "colab": {
      "provenance": [],
      "mount_file_id": "1NI18EDghny0zIICqUmohNsHbz56IARIn",
      "authorship_tag": "ABX9TyMPp9YiFH8jKk/sjDZYjNn3",
      "include_colab_link": true
    },
    "kernelspec": {
      "name": "python3",
      "display_name": "Python 3"
    },
    "language_info": {
      "name": "python"
    }
  },
  "cells": [
    {
      "cell_type": "markdown",
      "metadata": {
        "id": "view-in-github",
        "colab_type": "text"
      },
      "source": [
        "<a href=\"https://colab.research.google.com/github/rdronamaps/exiftask/blob/master/Augment.ipynb\" target=\"_parent\"><img src=\"https://colab.research.google.com/assets/colab-badge.svg\" alt=\"Open In Colab\"/></a>"
      ]
    },
    {
      "cell_type": "code",
      "execution_count": null,
      "metadata": {
        "colab": {
          "base_uri": "https://localhost:8080/"
        },
        "id": "2A3knnV6d_HA",
        "outputId": "0d46bcac-8b05-4ef0-8c0a-9d53a4fda041"
      },
      "outputs": [
        {
          "output_type": "stream",
          "name": "stdout",
          "text": [
            "Augmentation with combined transformations completed and images saved!\n"
          ]
        }
      ],
      "source": [
        "import os\n",
        "import torch\n",
        "from torchvision import transforms\n",
        "from PIL import Image\n",
        "import glob\n",
        "\n",
        "# Define combination of transformations\n",
        "transformations = [\n",
        "    # transforms.Compose([\n",
        "        transforms.RandomHorizontalFlip(p=1.0),\n",
        "        # transforms.RandomRotation(20),\n",
        "    # ]),\n",
        "    # transforms.Compose([\n",
        "        # transforms.RandomHorizontalFlip(p=1.0),\n",
        "        # transforms.RandomRotation(90),\n",
        "        # transforms.RandomRotation(60),\n",
        "    # ]),\n",
        "    # transforms.Compose([\n",
        "        transforms.RandomVerticalFlip(p=1.0),\n",
        "        # transforms.RandomRotation(80),\n",
        "    # ]),\n",
        "]\n",
        "\n",
        "# Function to apply transformation and save images and masks\n",
        "def augment_and_save(image_path, mask_path, output_dir, img_name, mask_name):\n",
        "    image = Image.open(image_path)\n",
        "    mask = Image.open(mask_path)\n",
        "\n",
        "    for i, transform in enumerate(transformations):\n",
        "        transformed_image = transform(image)\n",
        "        transformed_mask = transform(mask)\n",
        "        transformed_image.save(os.path.join(output_dir, f\"{img_name}_aug_comb{i}.tif\"))\n",
        "        transformed_mask.save(os.path.join(output_dir, f\"{mask_name}_aug_comb{i}.tif\"))\n",
        "    transformed_image = transforms.functional.rotate(img = image, angle=90)\n",
        "    transformed_mask= transforms.functional.rotate(img = mask, angle=90)\n",
        "    transformed_image.save(os.path.join(output_dir, f\"{img_name}_aug_comb{2}.tif\"))\n",
        "    transformed_mask.save(os.path.join(output_dir, f\"{mask_name}_aug_comb{2}.tif\"))\n",
        "        # print(f\"{i}\")\n",
        "\n",
        "# Set directories\n",
        "image_dir = '/content/drive/MyDrive/Automation/training_data/DL_potholes_masks/images_S2'\n",
        "mask_dir = '/content/drive/MyDrive/Automation/training_data/DL_potholes_masks/masks_S2'\n",
        "output_dir = '/content/drive/MyDrive/Automation/training_data/DL_potholes_masks/augment'\n",
        "\n",
        "# Create output directory if it doesn't exist\n",
        "os.makedirs(output_dir, exist_ok=True)\n",
        "\n",
        "# Get list of images and masks\n",
        "image_paths = glob.glob(os.path.join(image_dir, '*.tif'))\n",
        "mask_paths = glob.glob(os.path.join(mask_dir, '*.tif'))\n",
        "\n",
        "# Ensure masks match with images\n",
        "image_paths.sort()\n",
        "mask_paths.sort()\n",
        "\n",
        "# Apply augmentations\n",
        "for image_path, mask_path in zip(image_paths, mask_paths):\n",
        "    img_name = os.path.basename(image_path).split('.')[0]\n",
        "    # print(f\"{image_path}\")\n",
        "    mask_name = os.path.basename(mask_path).split('.')[0]\n",
        "    augment_and_save(image_path, mask_path, output_dir, img_name, mask_name)\n",
        "\n",
        "print(\"Augmentation with combined transformations completed and images saved!\")\n"
      ]
    },
    {
      "cell_type": "code",
      "source": [
        "import os\n",
        "\n",
        "def rename_images_and_masks(directory):\n",
        "    # Create a list of image and mask files in the directory\n",
        "    image_files = sorted([f for f in os.listdir(directory) if f.startswith('tile_') and f.endswith('.tif')])\n",
        "    mask_files = sorted([f for f in os.listdir(directory) if f.startswith('mask_') and f.endswith('.tif')])\n",
        "\n",
        "    # Ensure that the number of image and mask files are the same\n",
        "    assert len(image_files) == len(mask_files), \"Mismatch between image and mask files count.\"\n",
        "\n",
        "    k = 1  # Start counting from 1\n",
        "\n",
        "    for image_file, mask_file in zip(image_files, mask_files):\n",
        "        # New names for image and mask files\n",
        "        new_image_name = f'tile_{k+133}.tif'\n",
        "        new_mask_name = f'mask_{k+133}.tif'\n",
        "\n",
        "        # Rename image file\n",
        "        os.rename(os.path.join(directory, image_file), os.path.join(directory, new_image_name))\n",
        "\n",
        "        # Rename mask file\n",
        "        os.rename(os.path.join(directory, mask_file), os.path.join(directory, new_mask_name))\n",
        "\n",
        "        k += 1  # Increment counter\n",
        "\n",
        "    print(\"Renaming completed.\")\n",
        "\n",
        "# Example usage\n",
        "directory = '/content/drive/MyDrive/Automation/training_data/DL_potholes_masks/augment'\n",
        "rename_images_and_masks(directory)\n"
      ],
      "metadata": {
        "colab": {
          "base_uri": "https://localhost:8080/"
        },
        "id": "ky8Y-oHa8FCV",
        "outputId": "b225d71b-2509-4642-8158-6d61a59e3f4c"
      },
      "execution_count": null,
      "outputs": [
        {
          "output_type": "stream",
          "name": "stdout",
          "text": [
            "Renaming completed.\n"
          ]
        }
      ]
    }
  ]
}