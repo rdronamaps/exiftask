{
  "nbformat": 4,
  "nbformat_minor": 0,
  "metadata": {
    "colab": {
      "provenance": [],
      "mount_file_id": "1PU0TKIZ4oztLdtgL-WS5wdjAw4xYMDJZ",
      "authorship_tag": "ABX9TyO+BbKeMnHI9WCWkq0hYSE3",
      "include_colab_link": true
    },
    "kernelspec": {
      "name": "python3",
      "display_name": "Python 3"
    },
    "language_info": {
      "name": "python"
    }
  },
  "cells": [
    {
      "cell_type": "markdown",
      "metadata": {
        "id": "view-in-github",
        "colab_type": "text"
      },
      "source": [
        "<a href=\"https://colab.research.google.com/github/rdronamaps/exiftask/blob/master/Geojson_conversion.ipynb\" target=\"_parent\"><img src=\"https://colab.research.google.com/assets/colab-badge.svg\" alt=\"Open In Colab\"/></a>"
      ]
    },
    {
      "cell_type": "code",
      "execution_count": 1,
      "metadata": {
        "colab": {
          "base_uri": "https://localhost:8080/"
        },
        "id": "ynY8HTDMV93K",
        "outputId": "878a8790-2576-4510-9def-6aa5daea5d4f"
      },
      "outputs": [
        {
          "output_type": "stream",
          "name": "stdout",
          "text": [
            "JSON file has been updated successfully.\n"
          ]
        }
      ],
      "source": [
        "import json\n",
        "\n",
        "# Load the original JSON data\n",
        "with open('/content/drive/MyDrive/Automation/output_geojson/Edge_Drops/2006RJ/2006RJ_13/2006RJ_1_1_geojson.geojson', 'r') as file:\n",
        "    data = json.load(file)\n",
        "\n",
        "# Iterate through each feature and update the field names and spatial reference\n",
        "for feature in data['features']:\n",
        "    # Rename attributes keys\n",
        "    feature['properties']['upc'] = feature['properties'].pop('UPC')\n",
        "    feature['properties']['layer'] = feature['properties'].pop('Layer')\n",
        "    feature['properties']['survey_dat'] = feature['properties'].pop('Survey_Date')\n",
        "\n",
        "    # Handle null Survey_Date if needed (optional)\n",
        "    # if feature['properties']['survey_dat'] is None:\n",
        "    #     feature['properties']['survey_dat'] = \"2024-08-21\"  # or leave as None\n",
        "\n",
        "# Update the CRS to use wkid\n",
        "data['spatialReference'] = {\n",
        "    \"wkid\": 4326\n",
        "}\n",
        "\n",
        "# Remove the old 'crs' key if it exists\n",
        "if 'crs' in data:\n",
        "    del data['crs']\n",
        "\n",
        "# Save the modified JSON back to a file\n",
        "with open('/content/drive/MyDrive/Automation/output_geojson/Edge_Drops/2006RJ/2006RJ_13/2006RJ_1_1_output_2.geojson', 'w') as file:\n",
        "    json.dump(data, file, indent=4)\n",
        "\n",
        "print(\"JSON file has been updated successfully.\")\n"
      ]
    },
    {
      "cell_type": "code",
      "source": [
        "!pip install wand"
      ],
      "metadata": {
        "colab": {
          "base_uri": "https://localhost:8080/"
        },
        "id": "OtUT_4M2zKIU",
        "outputId": "a5788110-c29e-49de-8703-1c241b620508"
      },
      "execution_count": 1,
      "outputs": [
        {
          "output_type": "stream",
          "name": "stdout",
          "text": [
            "Collecting wand\n",
            "  Downloading Wand-0.6.13-py2.py3-none-any.whl.metadata (4.0 kB)\n",
            "Downloading Wand-0.6.13-py2.py3-none-any.whl (143 kB)\n",
            "\u001b[?25l   \u001b[90m━━━━━━━━━━━━━━━━━━━━━━━━━━━━━━━━━━━━━━━━\u001b[0m \u001b[32m0.0/143.8 kB\u001b[0m \u001b[31m?\u001b[0m eta \u001b[36m-:--:--\u001b[0m\r\u001b[2K   \u001b[90m━━━━━━━━━━━━━━━━━━━━━━━━━━━━━━━━━━━━━━━━\u001b[0m \u001b[32m143.8/143.8 kB\u001b[0m \u001b[31m8.0 MB/s\u001b[0m eta \u001b[36m0:00:00\u001b[0m\n",
            "\u001b[?25hInstalling collected packages: wand\n",
            "Successfully installed wand-0.6.13\n"
          ]
        }
      ]
    },
    {
      "cell_type": "code",
      "source": [],
      "metadata": {
        "id": "updlqovmzRwD"
      },
      "execution_count": null,
      "outputs": []
    }
  ]
}